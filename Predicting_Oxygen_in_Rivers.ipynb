{
  "nbformat": 4,
  "nbformat_minor": 0,
  "metadata": {
    "colab": {
      "name": "Predicting Oxygen in Rivers",
      "provenance": [],
      "authorship_tag": "ABX9TyPhx811O0cyjach/8n1Puhq",
      "include_colab_link": true
    },
    "kernelspec": {
      "name": "python3",
      "display_name": "Python 3"
    },
    "language_info": {
      "name": "python"
    }
  },
  "cells": [
    {
      "cell_type": "markdown",
      "metadata": {
        "id": "view-in-github",
        "colab_type": "text"
      },
      "source": [
        "<a href=\"https://colab.research.google.com/github/PyBeginner1/Dissolvedoxygenpredictioninriverwater/blob/main/Predicting_Oxygen_in_Rivers.ipynb\" target=\"_parent\"><img src=\"https://colab.research.google.com/assets/colab-badge.svg\" alt=\"Open In Colab\"/></a>"
      ]
    },
    {
      "cell_type": "code",
      "metadata": {
        "id": "LjlLeTZrNpFB"
      },
      "source": [
        "import numpy as np\n",
        "import pandas as pd\n",
        "\n",
        "from sklearn.model_selection import train_test_split\n",
        "from sklearn.preprocessing import StandardScaler\n",
        "\n",
        "from sklearn.linear_model import LinearRegression, LogisticRegression"
      ],
      "execution_count": 7,
      "outputs": []
    },
    {
      "cell_type": "code",
      "metadata": {
        "id": "Q5CgOWB9N-ly"
      },
      "source": [
        "data = pd.read_csv('/content/water.csv')"
      ],
      "execution_count": 8,
      "outputs": []
    },
    {
      "cell_type": "code",
      "metadata": {
        "colab": {
          "base_uri": "https://localhost:8080/",
          "height": 223
        },
        "id": "pqUBt-S9OCIn",
        "outputId": "837d9093-8eae-46ab-f8a7-d45d2bd4240a"
      },
      "source": [
        "data.head()"
      ],
      "execution_count": 9,
      "outputs": [
        {
          "output_type": "execute_result",
          "data": {
            "text/html": [
              "<div>\n",
              "<style scoped>\n",
              "    .dataframe tbody tr th:only-of-type {\n",
              "        vertical-align: middle;\n",
              "    }\n",
              "\n",
              "    .dataframe tbody tr th {\n",
              "        vertical-align: top;\n",
              "    }\n",
              "\n",
              "    .dataframe thead th {\n",
              "        text-align: right;\n",
              "    }\n",
              "</style>\n",
              "<table border=\"1\" class=\"dataframe\">\n",
              "  <thead>\n",
              "    <tr style=\"text-align: right;\">\n",
              "      <th></th>\n",
              "      <th>Id</th>\n",
              "      <th>target</th>\n",
              "      <th>O2_1</th>\n",
              "      <th>O2_2</th>\n",
              "      <th>O2_3</th>\n",
              "      <th>O2_4</th>\n",
              "      <th>O2_5</th>\n",
              "      <th>O2_6</th>\n",
              "      <th>O2_7</th>\n",
              "      <th>NH4_1</th>\n",
              "      <th>NH4_2</th>\n",
              "      <th>NH4_3</th>\n",
              "      <th>NH4_4</th>\n",
              "      <th>NH4_5</th>\n",
              "      <th>NH4_6</th>\n",
              "      <th>NH4_7</th>\n",
              "      <th>NO2_1</th>\n",
              "      <th>NO2_2</th>\n",
              "      <th>NO2_3</th>\n",
              "      <th>NO2_4</th>\n",
              "      <th>NO2_5</th>\n",
              "      <th>NO2_6</th>\n",
              "      <th>NO2_7</th>\n",
              "      <th>NO3_1</th>\n",
              "      <th>NO3_2</th>\n",
              "      <th>NO3_3</th>\n",
              "      <th>NO3_4</th>\n",
              "      <th>NO3_5</th>\n",
              "      <th>NO3_6</th>\n",
              "      <th>NO3_7</th>\n",
              "      <th>BOD5_1</th>\n",
              "      <th>BOD5_2</th>\n",
              "      <th>BOD5_3</th>\n",
              "      <th>BOD5_4</th>\n",
              "      <th>BOD5_5</th>\n",
              "      <th>BOD5_6</th>\n",
              "      <th>BOD5_7</th>\n",
              "    </tr>\n",
              "  </thead>\n",
              "  <tbody>\n",
              "    <tr>\n",
              "      <th>0</th>\n",
              "      <td>0</td>\n",
              "      <td>12.58</td>\n",
              "      <td>9.875</td>\n",
              "      <td>9.20</td>\n",
              "      <td>NaN</td>\n",
              "      <td>NaN</td>\n",
              "      <td>NaN</td>\n",
              "      <td>NaN</td>\n",
              "      <td>NaN</td>\n",
              "      <td>0.690</td>\n",
              "      <td>1.040</td>\n",
              "      <td>NaN</td>\n",
              "      <td>NaN</td>\n",
              "      <td>NaN</td>\n",
              "      <td>NaN</td>\n",
              "      <td>NaN</td>\n",
              "      <td>0.0940</td>\n",
              "      <td>0.0990</td>\n",
              "      <td>NaN</td>\n",
              "      <td>NaN</td>\n",
              "      <td>NaN</td>\n",
              "      <td>NaN</td>\n",
              "      <td>NaN</td>\n",
              "      <td>1.58</td>\n",
              "      <td>1.825</td>\n",
              "      <td>NaN</td>\n",
              "      <td>NaN</td>\n",
              "      <td>NaN</td>\n",
              "      <td>NaN</td>\n",
              "      <td>NaN</td>\n",
              "      <td>4.80</td>\n",
              "      <td>5.850</td>\n",
              "      <td>NaN</td>\n",
              "      <td>NaN</td>\n",
              "      <td>NaN</td>\n",
              "      <td>NaN</td>\n",
              "      <td>NaN</td>\n",
              "    </tr>\n",
              "    <tr>\n",
              "      <th>1</th>\n",
              "      <td>3</td>\n",
              "      <td>9.37</td>\n",
              "      <td>10.300</td>\n",
              "      <td>10.75</td>\n",
              "      <td>NaN</td>\n",
              "      <td>NaN</td>\n",
              "      <td>NaN</td>\n",
              "      <td>NaN</td>\n",
              "      <td>NaN</td>\n",
              "      <td>0.710</td>\n",
              "      <td>0.725</td>\n",
              "      <td>NaN</td>\n",
              "      <td>NaN</td>\n",
              "      <td>NaN</td>\n",
              "      <td>NaN</td>\n",
              "      <td>NaN</td>\n",
              "      <td>0.0585</td>\n",
              "      <td>0.0515</td>\n",
              "      <td>NaN</td>\n",
              "      <td>NaN</td>\n",
              "      <td>NaN</td>\n",
              "      <td>NaN</td>\n",
              "      <td>NaN</td>\n",
              "      <td>1.21</td>\n",
              "      <td>0.905</td>\n",
              "      <td>NaN</td>\n",
              "      <td>NaN</td>\n",
              "      <td>NaN</td>\n",
              "      <td>NaN</td>\n",
              "      <td>NaN</td>\n",
              "      <td>5.88</td>\n",
              "      <td>6.835</td>\n",
              "      <td>NaN</td>\n",
              "      <td>NaN</td>\n",
              "      <td>NaN</td>\n",
              "      <td>NaN</td>\n",
              "      <td>NaN</td>\n",
              "    </tr>\n",
              "    <tr>\n",
              "      <th>2</th>\n",
              "      <td>4</td>\n",
              "      <td>8.35</td>\n",
              "      <td>8.290</td>\n",
              "      <td>7.90</td>\n",
              "      <td>NaN</td>\n",
              "      <td>NaN</td>\n",
              "      <td>NaN</td>\n",
              "      <td>NaN</td>\n",
              "      <td>NaN</td>\n",
              "      <td>2.210</td>\n",
              "      <td>2.210</td>\n",
              "      <td>NaN</td>\n",
              "      <td>NaN</td>\n",
              "      <td>NaN</td>\n",
              "      <td>NaN</td>\n",
              "      <td>NaN</td>\n",
              "      <td>0.1000</td>\n",
              "      <td>0.1100</td>\n",
              "      <td>NaN</td>\n",
              "      <td>NaN</td>\n",
              "      <td>NaN</td>\n",
              "      <td>NaN</td>\n",
              "      <td>NaN</td>\n",
              "      <td>1.34</td>\n",
              "      <td>1.250</td>\n",
              "      <td>NaN</td>\n",
              "      <td>NaN</td>\n",
              "      <td>NaN</td>\n",
              "      <td>NaN</td>\n",
              "      <td>NaN</td>\n",
              "      <td>3.20</td>\n",
              "      <td>2.700</td>\n",
              "      <td>NaN</td>\n",
              "      <td>NaN</td>\n",
              "      <td>NaN</td>\n",
              "      <td>NaN</td>\n",
              "      <td>NaN</td>\n",
              "    </tr>\n",
              "    <tr>\n",
              "      <th>3</th>\n",
              "      <td>5</td>\n",
              "      <td>9.57</td>\n",
              "      <td>8.820</td>\n",
              "      <td>6.80</td>\n",
              "      <td>NaN</td>\n",
              "      <td>NaN</td>\n",
              "      <td>NaN</td>\n",
              "      <td>NaN</td>\n",
              "      <td>NaN</td>\n",
              "      <td>0.595</td>\n",
              "      <td>0.675</td>\n",
              "      <td>NaN</td>\n",
              "      <td>NaN</td>\n",
              "      <td>NaN</td>\n",
              "      <td>NaN</td>\n",
              "      <td>NaN</td>\n",
              "      <td>0.0460</td>\n",
              "      <td>0.0535</td>\n",
              "      <td>NaN</td>\n",
              "      <td>NaN</td>\n",
              "      <td>NaN</td>\n",
              "      <td>NaN</td>\n",
              "      <td>NaN</td>\n",
              "      <td>0.59</td>\n",
              "      <td>0.790</td>\n",
              "      <td>NaN</td>\n",
              "      <td>NaN</td>\n",
              "      <td>NaN</td>\n",
              "      <td>NaN</td>\n",
              "      <td>NaN</td>\n",
              "      <td>7.70</td>\n",
              "      <td>7.055</td>\n",
              "      <td>NaN</td>\n",
              "      <td>NaN</td>\n",
              "      <td>NaN</td>\n",
              "      <td>NaN</td>\n",
              "      <td>NaN</td>\n",
              "    </tr>\n",
              "    <tr>\n",
              "      <th>4</th>\n",
              "      <td>6</td>\n",
              "      <td>6.00</td>\n",
              "      <td>6.000</td>\n",
              "      <td>6.50</td>\n",
              "      <td>NaN</td>\n",
              "      <td>NaN</td>\n",
              "      <td>NaN</td>\n",
              "      <td>NaN</td>\n",
              "      <td>NaN</td>\n",
              "      <td>0.600</td>\n",
              "      <td>0.900</td>\n",
              "      <td>NaN</td>\n",
              "      <td>NaN</td>\n",
              "      <td>NaN</td>\n",
              "      <td>NaN</td>\n",
              "      <td>NaN</td>\n",
              "      <td>0.1800</td>\n",
              "      <td>0.3400</td>\n",
              "      <td>NaN</td>\n",
              "      <td>NaN</td>\n",
              "      <td>NaN</td>\n",
              "      <td>NaN</td>\n",
              "      <td>NaN</td>\n",
              "      <td>1.36</td>\n",
              "      <td>1.820</td>\n",
              "      <td>NaN</td>\n",
              "      <td>NaN</td>\n",
              "      <td>NaN</td>\n",
              "      <td>NaN</td>\n",
              "      <td>NaN</td>\n",
              "      <td>5.50</td>\n",
              "      <td>5.300</td>\n",
              "      <td>NaN</td>\n",
              "      <td>NaN</td>\n",
              "      <td>NaN</td>\n",
              "      <td>NaN</td>\n",
              "      <td>NaN</td>\n",
              "    </tr>\n",
              "  </tbody>\n",
              "</table>\n",
              "</div>"
            ],
            "text/plain": [
              "   Id  target    O2_1   O2_2  O2_3  ...  BOD5_3  BOD5_4  BOD5_5  BOD5_6  BOD5_7\n",
              "0   0   12.58   9.875   9.20   NaN  ...     NaN     NaN     NaN     NaN     NaN\n",
              "1   3    9.37  10.300  10.75   NaN  ...     NaN     NaN     NaN     NaN     NaN\n",
              "2   4    8.35   8.290   7.90   NaN  ...     NaN     NaN     NaN     NaN     NaN\n",
              "3   5    9.57   8.820   6.80   NaN  ...     NaN     NaN     NaN     NaN     NaN\n",
              "4   6    6.00   6.000   6.50   NaN  ...     NaN     NaN     NaN     NaN     NaN\n",
              "\n",
              "[5 rows x 37 columns]"
            ]
          },
          "metadata": {
            "tags": []
          },
          "execution_count": 9
        }
      ]
    },
    {
      "cell_type": "code",
      "metadata": {
        "colab": {
          "base_uri": "https://localhost:8080/"
        },
        "id": "M9rFgP6fOC4X",
        "outputId": "931ff378-8a3f-47ae-82e9-a7e2927e90e6"
      },
      "source": [
        "data.info()"
      ],
      "execution_count": 10,
      "outputs": [
        {
          "output_type": "stream",
          "text": [
            "<class 'pandas.core.frame.DataFrame'>\n",
            "RangeIndex: 147 entries, 0 to 146\n",
            "Data columns (total 37 columns):\n",
            " #   Column  Non-Null Count  Dtype  \n",
            "---  ------  --------------  -----  \n",
            " 0   Id      147 non-null    int64  \n",
            " 1   target  147 non-null    float64\n",
            " 2   O2_1    145 non-null    float64\n",
            " 3   O2_2    145 non-null    float64\n",
            " 4   O2_3    32 non-null     float64\n",
            " 5   O2_4    31 non-null     float64\n",
            " 6   O2_5    33 non-null     float64\n",
            " 7   O2_6    37 non-null     float64\n",
            " 8   O2_7    37 non-null     float64\n",
            " 9   NH4_1   145 non-null    float64\n",
            " 10  NH4_2   145 non-null    float64\n",
            " 11  NH4_3   32 non-null     float64\n",
            " 12  NH4_4   31 non-null     float64\n",
            " 13  NH4_5   33 non-null     float64\n",
            " 14  NH4_6   37 non-null     float64\n",
            " 15  NH4_7   37 non-null     float64\n",
            " 16  NO2_1   145 non-null    float64\n",
            " 17  NO2_2   145 non-null    float64\n",
            " 18  NO2_3   32 non-null     float64\n",
            " 19  NO2_4   31 non-null     float64\n",
            " 20  NO2_5   33 non-null     float64\n",
            " 21  NO2_6   37 non-null     float64\n",
            " 22  NO2_7   37 non-null     float64\n",
            " 23  NO3_1   145 non-null    float64\n",
            " 24  NO3_2   145 non-null    float64\n",
            " 25  NO3_3   32 non-null     float64\n",
            " 26  NO3_4   31 non-null     float64\n",
            " 27  NO3_5   33 non-null     float64\n",
            " 28  NO3_6   37 non-null     float64\n",
            " 29  NO3_7   37 non-null     float64\n",
            " 30  BOD5_1  145 non-null    float64\n",
            " 31  BOD5_2  145 non-null    float64\n",
            " 32  BOD5_3  32 non-null     float64\n",
            " 33  BOD5_4  31 non-null     float64\n",
            " 34  BOD5_5  33 non-null     float64\n",
            " 35  BOD5_6  37 non-null     float64\n",
            " 36  BOD5_7  37 non-null     float64\n",
            "dtypes: float64(36), int64(1)\n",
            "memory usage: 42.6 KB\n"
          ],
          "name": "stdout"
        }
      ]
    },
    {
      "cell_type": "code",
      "metadata": {
        "colab": {
          "base_uri": "https://localhost:8080/"
        },
        "id": "caCuBU_hOIGX",
        "outputId": "9dffc89d-657c-4f76-d700-73a05b4e7bc1"
      },
      "source": [
        "data.isna().sum()"
      ],
      "execution_count": 6,
      "outputs": [
        {
          "output_type": "execute_result",
          "data": {
            "text/plain": [
              "Id          0\n",
              "target      0\n",
              "O2_1        2\n",
              "O2_2        2\n",
              "O2_3      115\n",
              "O2_4      116\n",
              "O2_5      114\n",
              "O2_6      110\n",
              "O2_7      110\n",
              "NH4_1       2\n",
              "NH4_2       2\n",
              "NH4_3     115\n",
              "NH4_4     116\n",
              "NH4_5     114\n",
              "NH4_6     110\n",
              "NH4_7     110\n",
              "NO2_1       2\n",
              "NO2_2       2\n",
              "NO2_3     115\n",
              "NO2_4     116\n",
              "NO2_5     114\n",
              "NO2_6     110\n",
              "NO2_7     110\n",
              "NO3_1       2\n",
              "NO3_2       2\n",
              "NO3_3     115\n",
              "NO3_4     116\n",
              "NO3_5     114\n",
              "NO3_6     110\n",
              "NO3_7     110\n",
              "BOD5_1      2\n",
              "BOD5_2      2\n",
              "BOD5_3    115\n",
              "BOD5_4    116\n",
              "BOD5_5    114\n",
              "BOD5_6    110\n",
              "BOD5_7    110\n",
              "dtype: int64"
            ]
          },
          "metadata": {
            "tags": []
          },
          "execution_count": 6
        }
      ]
    },
    {
      "cell_type": "code",
      "metadata": {
        "colab": {
          "base_uri": "https://localhost:8080/"
        },
        "id": "hfRHGCZ1OQr-",
        "outputId": "3bdf7338-e19a-4dba-b833-575ea4f7f2fa"
      },
      "source": [
        "data.isna().sum() > 100"
      ],
      "execution_count": 11,
      "outputs": [
        {
          "output_type": "execute_result",
          "data": {
            "text/plain": [
              "Id        False\n",
              "target    False\n",
              "O2_1      False\n",
              "O2_2      False\n",
              "O2_3       True\n",
              "O2_4       True\n",
              "O2_5       True\n",
              "O2_6       True\n",
              "O2_7       True\n",
              "NH4_1     False\n",
              "NH4_2     False\n",
              "NH4_3      True\n",
              "NH4_4      True\n",
              "NH4_5      True\n",
              "NH4_6      True\n",
              "NH4_7      True\n",
              "NO2_1     False\n",
              "NO2_2     False\n",
              "NO2_3      True\n",
              "NO2_4      True\n",
              "NO2_5      True\n",
              "NO2_6      True\n",
              "NO2_7      True\n",
              "NO3_1     False\n",
              "NO3_2     False\n",
              "NO3_3      True\n",
              "NO3_4      True\n",
              "NO3_5      True\n",
              "NO3_6      True\n",
              "NO3_7      True\n",
              "BOD5_1    False\n",
              "BOD5_2    False\n",
              "BOD5_3     True\n",
              "BOD5_4     True\n",
              "BOD5_5     True\n",
              "BOD5_6     True\n",
              "BOD5_7     True\n",
              "dtype: bool"
            ]
          },
          "metadata": {
            "tags": []
          },
          "execution_count": 11
        }
      ]
    },
    {
      "cell_type": "code",
      "metadata": {
        "colab": {
          "base_uri": "https://localhost:8080/"
        },
        "id": "Gvsk7BoiPW2P",
        "outputId": "966b2b84-562f-428d-8e8f-8a9817b03c0b"
      },
      "source": [
        "data.columns[data.isna().sum() > 100]"
      ],
      "execution_count": 12,
      "outputs": [
        {
          "output_type": "execute_result",
          "data": {
            "text/plain": [
              "Index(['O2_3', 'O2_4', 'O2_5', 'O2_6', 'O2_7', 'NH4_3', 'NH4_4', 'NH4_5',\n",
              "       'NH4_6', 'NH4_7', 'NO2_3', 'NO2_4', 'NO2_5', 'NO2_6', 'NO2_7', 'NO3_3',\n",
              "       'NO3_4', 'NO3_5', 'NO3_6', 'NO3_7', 'BOD5_3', 'BOD5_4', 'BOD5_5',\n",
              "       'BOD5_6', 'BOD5_7'],\n",
              "      dtype='object')"
            ]
          },
          "metadata": {
            "tags": []
          },
          "execution_count": 12
        }
      ]
    },
    {
      "cell_type": "code",
      "metadata": {
        "colab": {
          "base_uri": "https://localhost:8080/"
        },
        "id": "oxlKRQiqPzoP",
        "outputId": "9569242c-b035-491b-c637-94ea45182e01"
      },
      "source": [
        "list(data.columns[data.isna().sum() > 100])"
      ],
      "execution_count": 13,
      "outputs": [
        {
          "output_type": "execute_result",
          "data": {
            "text/plain": [
              "['O2_3',\n",
              " 'O2_4',\n",
              " 'O2_5',\n",
              " 'O2_6',\n",
              " 'O2_7',\n",
              " 'NH4_3',\n",
              " 'NH4_4',\n",
              " 'NH4_5',\n",
              " 'NH4_6',\n",
              " 'NH4_7',\n",
              " 'NO2_3',\n",
              " 'NO2_4',\n",
              " 'NO2_5',\n",
              " 'NO2_6',\n",
              " 'NO2_7',\n",
              " 'NO3_3',\n",
              " 'NO3_4',\n",
              " 'NO3_5',\n",
              " 'NO3_6',\n",
              " 'NO3_7',\n",
              " 'BOD5_3',\n",
              " 'BOD5_4',\n",
              " 'BOD5_5',\n",
              " 'BOD5_6',\n",
              " 'BOD5_7']"
            ]
          },
          "metadata": {
            "tags": []
          },
          "execution_count": 13
        }
      ]
    },
    {
      "cell_type": "code",
      "metadata": {
        "id": "tVCArE0kP2dY"
      },
      "source": [
        "rem_columns = list(data.columns[data.isna().sum() > 100])\n",
        "\n",
        "data.drop(rem_columns, axis = 1, inplace = True)"
      ],
      "execution_count": 14,
      "outputs": []
    },
    {
      "cell_type": "code",
      "metadata": {
        "colab": {
          "base_uri": "https://localhost:8080/",
          "height": 417
        },
        "id": "rgNpb0S4QIEh",
        "outputId": "6e60c0f9-ae1c-4f73-f408-f72861462d8c"
      },
      "source": [
        "data"
      ],
      "execution_count": 15,
      "outputs": [
        {
          "output_type": "execute_result",
          "data": {
            "text/html": [
              "<div>\n",
              "<style scoped>\n",
              "    .dataframe tbody tr th:only-of-type {\n",
              "        vertical-align: middle;\n",
              "    }\n",
              "\n",
              "    .dataframe tbody tr th {\n",
              "        vertical-align: top;\n",
              "    }\n",
              "\n",
              "    .dataframe thead th {\n",
              "        text-align: right;\n",
              "    }\n",
              "</style>\n",
              "<table border=\"1\" class=\"dataframe\">\n",
              "  <thead>\n",
              "    <tr style=\"text-align: right;\">\n",
              "      <th></th>\n",
              "      <th>Id</th>\n",
              "      <th>target</th>\n",
              "      <th>O2_1</th>\n",
              "      <th>O2_2</th>\n",
              "      <th>NH4_1</th>\n",
              "      <th>NH4_2</th>\n",
              "      <th>NO2_1</th>\n",
              "      <th>NO2_2</th>\n",
              "      <th>NO3_1</th>\n",
              "      <th>NO3_2</th>\n",
              "      <th>BOD5_1</th>\n",
              "      <th>BOD5_2</th>\n",
              "    </tr>\n",
              "  </thead>\n",
              "  <tbody>\n",
              "    <tr>\n",
              "      <th>0</th>\n",
              "      <td>0</td>\n",
              "      <td>12.58</td>\n",
              "      <td>9.875</td>\n",
              "      <td>9.20</td>\n",
              "      <td>0.690</td>\n",
              "      <td>1.040</td>\n",
              "      <td>0.0940</td>\n",
              "      <td>0.0990</td>\n",
              "      <td>1.58</td>\n",
              "      <td>1.825</td>\n",
              "      <td>4.80</td>\n",
              "      <td>5.850</td>\n",
              "    </tr>\n",
              "    <tr>\n",
              "      <th>1</th>\n",
              "      <td>3</td>\n",
              "      <td>9.37</td>\n",
              "      <td>10.300</td>\n",
              "      <td>10.75</td>\n",
              "      <td>0.710</td>\n",
              "      <td>0.725</td>\n",
              "      <td>0.0585</td>\n",
              "      <td>0.0515</td>\n",
              "      <td>1.21</td>\n",
              "      <td>0.905</td>\n",
              "      <td>5.88</td>\n",
              "      <td>6.835</td>\n",
              "    </tr>\n",
              "    <tr>\n",
              "      <th>2</th>\n",
              "      <td>4</td>\n",
              "      <td>8.35</td>\n",
              "      <td>8.290</td>\n",
              "      <td>7.90</td>\n",
              "      <td>2.210</td>\n",
              "      <td>2.210</td>\n",
              "      <td>0.1000</td>\n",
              "      <td>0.1100</td>\n",
              "      <td>1.34</td>\n",
              "      <td>1.250</td>\n",
              "      <td>3.20</td>\n",
              "      <td>2.700</td>\n",
              "    </tr>\n",
              "    <tr>\n",
              "      <th>3</th>\n",
              "      <td>5</td>\n",
              "      <td>9.57</td>\n",
              "      <td>8.820</td>\n",
              "      <td>6.80</td>\n",
              "      <td>0.595</td>\n",
              "      <td>0.675</td>\n",
              "      <td>0.0460</td>\n",
              "      <td>0.0535</td>\n",
              "      <td>0.59</td>\n",
              "      <td>0.790</td>\n",
              "      <td>7.70</td>\n",
              "      <td>7.055</td>\n",
              "    </tr>\n",
              "    <tr>\n",
              "      <th>4</th>\n",
              "      <td>6</td>\n",
              "      <td>6.00</td>\n",
              "      <td>6.000</td>\n",
              "      <td>6.50</td>\n",
              "      <td>0.600</td>\n",
              "      <td>0.900</td>\n",
              "      <td>0.1800</td>\n",
              "      <td>0.3400</td>\n",
              "      <td>1.36</td>\n",
              "      <td>1.820</td>\n",
              "      <td>5.50</td>\n",
              "      <td>5.300</td>\n",
              "    </tr>\n",
              "    <tr>\n",
              "      <th>...</th>\n",
              "      <td>...</td>\n",
              "      <td>...</td>\n",
              "      <td>...</td>\n",
              "      <td>...</td>\n",
              "      <td>...</td>\n",
              "      <td>...</td>\n",
              "      <td>...</td>\n",
              "      <td>...</td>\n",
              "      <td>...</td>\n",
              "      <td>...</td>\n",
              "      <td>...</td>\n",
              "      <td>...</td>\n",
              "    </tr>\n",
              "    <tr>\n",
              "      <th>142</th>\n",
              "      <td>208</td>\n",
              "      <td>6.80</td>\n",
              "      <td>7.700</td>\n",
              "      <td>7.50</td>\n",
              "      <td>0.380</td>\n",
              "      <td>1.900</td>\n",
              "      <td>0.6200</td>\n",
              "      <td>0.0640</td>\n",
              "      <td>2.80</td>\n",
              "      <td>3.330</td>\n",
              "      <td>5.00</td>\n",
              "      <td>5.800</td>\n",
              "    </tr>\n",
              "    <tr>\n",
              "      <th>143</th>\n",
              "      <td>211</td>\n",
              "      <td>5.30</td>\n",
              "      <td>6.300</td>\n",
              "      <td>5.65</td>\n",
              "      <td>0.370</td>\n",
              "      <td>0.500</td>\n",
              "      <td>0.6900</td>\n",
              "      <td>0.9500</td>\n",
              "      <td>4.37</td>\n",
              "      <td>3.160</td>\n",
              "      <td>8.00</td>\n",
              "      <td>8.000</td>\n",
              "    </tr>\n",
              "    <tr>\n",
              "      <th>144</th>\n",
              "      <td>212</td>\n",
              "      <td>8.60</td>\n",
              "      <td>8.600</td>\n",
              "      <td>11.00</td>\n",
              "      <td>2.400</td>\n",
              "      <td>3.600</td>\n",
              "      <td>0.1500</td>\n",
              "      <td>0.1400</td>\n",
              "      <td>0.53</td>\n",
              "      <td>3.000</td>\n",
              "      <td>6.80</td>\n",
              "      <td>7.200</td>\n",
              "    </tr>\n",
              "    <tr>\n",
              "      <th>145</th>\n",
              "      <td>213</td>\n",
              "      <td>9.90</td>\n",
              "      <td>9.600</td>\n",
              "      <td>14.10</td>\n",
              "      <td>0.310</td>\n",
              "      <td>0.500</td>\n",
              "      <td>0.2100</td>\n",
              "      <td>0.0800</td>\n",
              "      <td>3.10</td>\n",
              "      <td>3.500</td>\n",
              "      <td>5.20</td>\n",
              "      <td>7.800</td>\n",
              "    </tr>\n",
              "    <tr>\n",
              "      <th>146</th>\n",
              "      <td>214</td>\n",
              "      <td>6.50</td>\n",
              "      <td>6.500</td>\n",
              "      <td>7.70</td>\n",
              "      <td>0.190</td>\n",
              "      <td>0.260</td>\n",
              "      <td>0.1300</td>\n",
              "      <td>0.0720</td>\n",
              "      <td>0.00</td>\n",
              "      <td>0.000</td>\n",
              "      <td>3.40</td>\n",
              "      <td>4.100</td>\n",
              "    </tr>\n",
              "  </tbody>\n",
              "</table>\n",
              "<p>147 rows × 12 columns</p>\n",
              "</div>"
            ],
            "text/plain": [
              "      Id  target    O2_1   O2_2  NH4_1  ...   NO2_2  NO3_1  NO3_2  BOD5_1  BOD5_2\n",
              "0      0   12.58   9.875   9.20  0.690  ...  0.0990   1.58  1.825    4.80   5.850\n",
              "1      3    9.37  10.300  10.75  0.710  ...  0.0515   1.21  0.905    5.88   6.835\n",
              "2      4    8.35   8.290   7.90  2.210  ...  0.1100   1.34  1.250    3.20   2.700\n",
              "3      5    9.57   8.820   6.80  0.595  ...  0.0535   0.59  0.790    7.70   7.055\n",
              "4      6    6.00   6.000   6.50  0.600  ...  0.3400   1.36  1.820    5.50   5.300\n",
              "..   ...     ...     ...    ...    ...  ...     ...    ...    ...     ...     ...\n",
              "142  208    6.80   7.700   7.50  0.380  ...  0.0640   2.80  3.330    5.00   5.800\n",
              "143  211    5.30   6.300   5.65  0.370  ...  0.9500   4.37  3.160    8.00   8.000\n",
              "144  212    8.60   8.600  11.00  2.400  ...  0.1400   0.53  3.000    6.80   7.200\n",
              "145  213    9.90   9.600  14.10  0.310  ...  0.0800   3.10  3.500    5.20   7.800\n",
              "146  214    6.50   6.500   7.70  0.190  ...  0.0720   0.00  0.000    3.40   4.100\n",
              "\n",
              "[147 rows x 12 columns]"
            ]
          },
          "metadata": {
            "tags": []
          },
          "execution_count": 15
        }
      ]
    },
    {
      "cell_type": "code",
      "metadata": {
        "colab": {
          "base_uri": "https://localhost:8080/"
        },
        "id": "y9TZ8yZsQJJn",
        "outputId": "0e3d0bd7-467e-4ab6-de4e-2972d4fe7259"
      },
      "source": [
        "data.info()"
      ],
      "execution_count": 16,
      "outputs": [
        {
          "output_type": "stream",
          "text": [
            "<class 'pandas.core.frame.DataFrame'>\n",
            "RangeIndex: 147 entries, 0 to 146\n",
            "Data columns (total 12 columns):\n",
            " #   Column  Non-Null Count  Dtype  \n",
            "---  ------  --------------  -----  \n",
            " 0   Id      147 non-null    int64  \n",
            " 1   target  147 non-null    float64\n",
            " 2   O2_1    145 non-null    float64\n",
            " 3   O2_2    145 non-null    float64\n",
            " 4   NH4_1   145 non-null    float64\n",
            " 5   NH4_2   145 non-null    float64\n",
            " 6   NO2_1   145 non-null    float64\n",
            " 7   NO2_2   145 non-null    float64\n",
            " 8   NO3_1   145 non-null    float64\n",
            " 9   NO3_2   145 non-null    float64\n",
            " 10  BOD5_1  145 non-null    float64\n",
            " 11  BOD5_2  145 non-null    float64\n",
            "dtypes: float64(11), int64(1)\n",
            "memory usage: 13.9 KB\n"
          ],
          "name": "stdout"
        }
      ]
    },
    {
      "cell_type": "code",
      "metadata": {
        "colab": {
          "base_uri": "https://localhost:8080/"
        },
        "id": "hee9qFhMQM-e",
        "outputId": "5c68f20f-27d7-49be-e954-bf58ef3190c8"
      },
      "source": [
        "(data.isna().sum(axis = 0) != 0).sum()"
      ],
      "execution_count": 22,
      "outputs": [
        {
          "output_type": "execute_result",
          "data": {
            "text/plain": [
              "10"
            ]
          },
          "metadata": {
            "tags": []
          },
          "execution_count": 22
        }
      ]
    },
    {
      "cell_type": "code",
      "metadata": {
        "colab": {
          "base_uri": "https://localhost:8080/"
        },
        "id": "bz30p_pAR-9f",
        "outputId": "e7d0ed62-8309-4053-d497-0045b4252f0f"
      },
      "source": [
        "(data.isna().sum(axis = 1) != 0).sum()"
      ],
      "execution_count": 20,
      "outputs": [
        {
          "output_type": "execute_result",
          "data": {
            "text/plain": [
              "3"
            ]
          },
          "metadata": {
            "tags": []
          },
          "execution_count": 20
        }
      ]
    },
    {
      "cell_type": "code",
      "metadata": {
        "colab": {
          "base_uri": "https://localhost:8080/"
        },
        "id": "FdP8pGOwSD13",
        "outputId": "a2eacad7-dd5d-4f5f-df47-b6039274145a"
      },
      "source": [
        "print(f'Columns with missing values: {(data.isna().sum(axis = 0) != 0).sum()}')\n",
        "print(f'Rows with missing values: {(data.isna().sum(axis = 1) != 0).sum()}')"
      ],
      "execution_count": 25,
      "outputs": [
        {
          "output_type": "stream",
          "text": [
            "Columns with missing values: 10\n",
            "Rows with missing values: 3\n"
          ],
          "name": "stdout"
        }
      ]
    },
    {
      "cell_type": "code",
      "metadata": {
        "id": "ED0EY6BcUFtJ"
      },
      "source": [
        "data.dropna(axis = 0, inplace = True)"
      ],
      "execution_count": 26,
      "outputs": []
    },
    {
      "cell_type": "code",
      "metadata": {
        "colab": {
          "base_uri": "https://localhost:8080/",
          "height": 417
        },
        "id": "ZA2QKsOFU3jH",
        "outputId": "f3567758-3155-47f0-e9ae-dcef5605feb3"
      },
      "source": [
        "data"
      ],
      "execution_count": 27,
      "outputs": [
        {
          "output_type": "execute_result",
          "data": {
            "text/html": [
              "<div>\n",
              "<style scoped>\n",
              "    .dataframe tbody tr th:only-of-type {\n",
              "        vertical-align: middle;\n",
              "    }\n",
              "\n",
              "    .dataframe tbody tr th {\n",
              "        vertical-align: top;\n",
              "    }\n",
              "\n",
              "    .dataframe thead th {\n",
              "        text-align: right;\n",
              "    }\n",
              "</style>\n",
              "<table border=\"1\" class=\"dataframe\">\n",
              "  <thead>\n",
              "    <tr style=\"text-align: right;\">\n",
              "      <th></th>\n",
              "      <th>Id</th>\n",
              "      <th>target</th>\n",
              "      <th>O2_1</th>\n",
              "      <th>O2_2</th>\n",
              "      <th>NH4_1</th>\n",
              "      <th>NH4_2</th>\n",
              "      <th>NO2_1</th>\n",
              "      <th>NO2_2</th>\n",
              "      <th>NO3_1</th>\n",
              "      <th>NO3_2</th>\n",
              "      <th>BOD5_1</th>\n",
              "      <th>BOD5_2</th>\n",
              "    </tr>\n",
              "  </thead>\n",
              "  <tbody>\n",
              "    <tr>\n",
              "      <th>0</th>\n",
              "      <td>0</td>\n",
              "      <td>12.58</td>\n",
              "      <td>9.875</td>\n",
              "      <td>9.20</td>\n",
              "      <td>0.690</td>\n",
              "      <td>1.040</td>\n",
              "      <td>0.0940</td>\n",
              "      <td>0.0990</td>\n",
              "      <td>1.58</td>\n",
              "      <td>1.825</td>\n",
              "      <td>4.80</td>\n",
              "      <td>5.850</td>\n",
              "    </tr>\n",
              "    <tr>\n",
              "      <th>1</th>\n",
              "      <td>3</td>\n",
              "      <td>9.37</td>\n",
              "      <td>10.300</td>\n",
              "      <td>10.75</td>\n",
              "      <td>0.710</td>\n",
              "      <td>0.725</td>\n",
              "      <td>0.0585</td>\n",
              "      <td>0.0515</td>\n",
              "      <td>1.21</td>\n",
              "      <td>0.905</td>\n",
              "      <td>5.88</td>\n",
              "      <td>6.835</td>\n",
              "    </tr>\n",
              "    <tr>\n",
              "      <th>2</th>\n",
              "      <td>4</td>\n",
              "      <td>8.35</td>\n",
              "      <td>8.290</td>\n",
              "      <td>7.90</td>\n",
              "      <td>2.210</td>\n",
              "      <td>2.210</td>\n",
              "      <td>0.1000</td>\n",
              "      <td>0.1100</td>\n",
              "      <td>1.34</td>\n",
              "      <td>1.250</td>\n",
              "      <td>3.20</td>\n",
              "      <td>2.700</td>\n",
              "    </tr>\n",
              "    <tr>\n",
              "      <th>3</th>\n",
              "      <td>5</td>\n",
              "      <td>9.57</td>\n",
              "      <td>8.820</td>\n",
              "      <td>6.80</td>\n",
              "      <td>0.595</td>\n",
              "      <td>0.675</td>\n",
              "      <td>0.0460</td>\n",
              "      <td>0.0535</td>\n",
              "      <td>0.59</td>\n",
              "      <td>0.790</td>\n",
              "      <td>7.70</td>\n",
              "      <td>7.055</td>\n",
              "    </tr>\n",
              "    <tr>\n",
              "      <th>4</th>\n",
              "      <td>6</td>\n",
              "      <td>6.00</td>\n",
              "      <td>6.000</td>\n",
              "      <td>6.50</td>\n",
              "      <td>0.600</td>\n",
              "      <td>0.900</td>\n",
              "      <td>0.1800</td>\n",
              "      <td>0.3400</td>\n",
              "      <td>1.36</td>\n",
              "      <td>1.820</td>\n",
              "      <td>5.50</td>\n",
              "      <td>5.300</td>\n",
              "    </tr>\n",
              "    <tr>\n",
              "      <th>...</th>\n",
              "      <td>...</td>\n",
              "      <td>...</td>\n",
              "      <td>...</td>\n",
              "      <td>...</td>\n",
              "      <td>...</td>\n",
              "      <td>...</td>\n",
              "      <td>...</td>\n",
              "      <td>...</td>\n",
              "      <td>...</td>\n",
              "      <td>...</td>\n",
              "      <td>...</td>\n",
              "      <td>...</td>\n",
              "    </tr>\n",
              "    <tr>\n",
              "      <th>142</th>\n",
              "      <td>208</td>\n",
              "      <td>6.80</td>\n",
              "      <td>7.700</td>\n",
              "      <td>7.50</td>\n",
              "      <td>0.380</td>\n",
              "      <td>1.900</td>\n",
              "      <td>0.6200</td>\n",
              "      <td>0.0640</td>\n",
              "      <td>2.80</td>\n",
              "      <td>3.330</td>\n",
              "      <td>5.00</td>\n",
              "      <td>5.800</td>\n",
              "    </tr>\n",
              "    <tr>\n",
              "      <th>143</th>\n",
              "      <td>211</td>\n",
              "      <td>5.30</td>\n",
              "      <td>6.300</td>\n",
              "      <td>5.65</td>\n",
              "      <td>0.370</td>\n",
              "      <td>0.500</td>\n",
              "      <td>0.6900</td>\n",
              "      <td>0.9500</td>\n",
              "      <td>4.37</td>\n",
              "      <td>3.160</td>\n",
              "      <td>8.00</td>\n",
              "      <td>8.000</td>\n",
              "    </tr>\n",
              "    <tr>\n",
              "      <th>144</th>\n",
              "      <td>212</td>\n",
              "      <td>8.60</td>\n",
              "      <td>8.600</td>\n",
              "      <td>11.00</td>\n",
              "      <td>2.400</td>\n",
              "      <td>3.600</td>\n",
              "      <td>0.1500</td>\n",
              "      <td>0.1400</td>\n",
              "      <td>0.53</td>\n",
              "      <td>3.000</td>\n",
              "      <td>6.80</td>\n",
              "      <td>7.200</td>\n",
              "    </tr>\n",
              "    <tr>\n",
              "      <th>145</th>\n",
              "      <td>213</td>\n",
              "      <td>9.90</td>\n",
              "      <td>9.600</td>\n",
              "      <td>14.10</td>\n",
              "      <td>0.310</td>\n",
              "      <td>0.500</td>\n",
              "      <td>0.2100</td>\n",
              "      <td>0.0800</td>\n",
              "      <td>3.10</td>\n",
              "      <td>3.500</td>\n",
              "      <td>5.20</td>\n",
              "      <td>7.800</td>\n",
              "    </tr>\n",
              "    <tr>\n",
              "      <th>146</th>\n",
              "      <td>214</td>\n",
              "      <td>6.50</td>\n",
              "      <td>6.500</td>\n",
              "      <td>7.70</td>\n",
              "      <td>0.190</td>\n",
              "      <td>0.260</td>\n",
              "      <td>0.1300</td>\n",
              "      <td>0.0720</td>\n",
              "      <td>0.00</td>\n",
              "      <td>0.000</td>\n",
              "      <td>3.40</td>\n",
              "      <td>4.100</td>\n",
              "    </tr>\n",
              "  </tbody>\n",
              "</table>\n",
              "<p>144 rows × 12 columns</p>\n",
              "</div>"
            ],
            "text/plain": [
              "      Id  target    O2_1   O2_2  NH4_1  ...   NO2_2  NO3_1  NO3_2  BOD5_1  BOD5_2\n",
              "0      0   12.58   9.875   9.20  0.690  ...  0.0990   1.58  1.825    4.80   5.850\n",
              "1      3    9.37  10.300  10.75  0.710  ...  0.0515   1.21  0.905    5.88   6.835\n",
              "2      4    8.35   8.290   7.90  2.210  ...  0.1100   1.34  1.250    3.20   2.700\n",
              "3      5    9.57   8.820   6.80  0.595  ...  0.0535   0.59  0.790    7.70   7.055\n",
              "4      6    6.00   6.000   6.50  0.600  ...  0.3400   1.36  1.820    5.50   5.300\n",
              "..   ...     ...     ...    ...    ...  ...     ...    ...    ...     ...     ...\n",
              "142  208    6.80   7.700   7.50  0.380  ...  0.0640   2.80  3.330    5.00   5.800\n",
              "143  211    5.30   6.300   5.65  0.370  ...  0.9500   4.37  3.160    8.00   8.000\n",
              "144  212    8.60   8.600  11.00  2.400  ...  0.1400   0.53  3.000    6.80   7.200\n",
              "145  213    9.90   9.600  14.10  0.310  ...  0.0800   3.10  3.500    5.20   7.800\n",
              "146  214    6.50   6.500   7.70  0.190  ...  0.0720   0.00  0.000    3.40   4.100\n",
              "\n",
              "[144 rows x 12 columns]"
            ]
          },
          "metadata": {
            "tags": []
          },
          "execution_count": 27
        }
      ]
    },
    {
      "cell_type": "code",
      "metadata": {
        "colab": {
          "base_uri": "https://localhost:8080/"
        },
        "id": "5-8NEaq-U4ev",
        "outputId": "1b59935f-4107-4954-e9f6-6228eaa8f1c1"
      },
      "source": [
        "data.isna().sum().sum()"
      ],
      "execution_count": 28,
      "outputs": [
        {
          "output_type": "execute_result",
          "data": {
            "text/plain": [
              "0"
            ]
          },
          "metadata": {
            "tags": []
          },
          "execution_count": 28
        }
      ]
    },
    {
      "cell_type": "code",
      "metadata": {
        "id": "_PLkHPLJVilo"
      },
      "source": [
        "data.drop('Id', axis = 1, inplace = True)"
      ],
      "execution_count": 41,
      "outputs": []
    },
    {
      "cell_type": "markdown",
      "metadata": {
        "id": "ClKWnIkrU93e"
      },
      "source": [
        "# Splitting and Scaling Data"
      ]
    },
    {
      "cell_type": "code",
      "metadata": {
        "id": "IZ3XbKBKU7-n"
      },
      "source": [
        "X = data.drop('target', axis = 1)\n",
        "Y= data['target']"
      ],
      "execution_count": 42,
      "outputs": []
    },
    {
      "cell_type": "code",
      "metadata": {
        "colab": {
          "base_uri": "https://localhost:8080/",
          "height": 417
        },
        "id": "fKNlS57NV4in",
        "outputId": "88768969-efce-4f30-dec4-0b5b6019616d"
      },
      "source": [
        "X"
      ],
      "execution_count": 43,
      "outputs": [
        {
          "output_type": "execute_result",
          "data": {
            "text/html": [
              "<div>\n",
              "<style scoped>\n",
              "    .dataframe tbody tr th:only-of-type {\n",
              "        vertical-align: middle;\n",
              "    }\n",
              "\n",
              "    .dataframe tbody tr th {\n",
              "        vertical-align: top;\n",
              "    }\n",
              "\n",
              "    .dataframe thead th {\n",
              "        text-align: right;\n",
              "    }\n",
              "</style>\n",
              "<table border=\"1\" class=\"dataframe\">\n",
              "  <thead>\n",
              "    <tr style=\"text-align: right;\">\n",
              "      <th></th>\n",
              "      <th>O2_1</th>\n",
              "      <th>O2_2</th>\n",
              "      <th>NH4_1</th>\n",
              "      <th>NH4_2</th>\n",
              "      <th>NO2_1</th>\n",
              "      <th>NO2_2</th>\n",
              "      <th>NO3_1</th>\n",
              "      <th>NO3_2</th>\n",
              "      <th>BOD5_1</th>\n",
              "      <th>BOD5_2</th>\n",
              "    </tr>\n",
              "  </thead>\n",
              "  <tbody>\n",
              "    <tr>\n",
              "      <th>0</th>\n",
              "      <td>9.875</td>\n",
              "      <td>9.20</td>\n",
              "      <td>0.690</td>\n",
              "      <td>1.040</td>\n",
              "      <td>0.0940</td>\n",
              "      <td>0.0990</td>\n",
              "      <td>1.58</td>\n",
              "      <td>1.825</td>\n",
              "      <td>4.80</td>\n",
              "      <td>5.850</td>\n",
              "    </tr>\n",
              "    <tr>\n",
              "      <th>1</th>\n",
              "      <td>10.300</td>\n",
              "      <td>10.75</td>\n",
              "      <td>0.710</td>\n",
              "      <td>0.725</td>\n",
              "      <td>0.0585</td>\n",
              "      <td>0.0515</td>\n",
              "      <td>1.21</td>\n",
              "      <td>0.905</td>\n",
              "      <td>5.88</td>\n",
              "      <td>6.835</td>\n",
              "    </tr>\n",
              "    <tr>\n",
              "      <th>2</th>\n",
              "      <td>8.290</td>\n",
              "      <td>7.90</td>\n",
              "      <td>2.210</td>\n",
              "      <td>2.210</td>\n",
              "      <td>0.1000</td>\n",
              "      <td>0.1100</td>\n",
              "      <td>1.34</td>\n",
              "      <td>1.250</td>\n",
              "      <td>3.20</td>\n",
              "      <td>2.700</td>\n",
              "    </tr>\n",
              "    <tr>\n",
              "      <th>3</th>\n",
              "      <td>8.820</td>\n",
              "      <td>6.80</td>\n",
              "      <td>0.595</td>\n",
              "      <td>0.675</td>\n",
              "      <td>0.0460</td>\n",
              "      <td>0.0535</td>\n",
              "      <td>0.59</td>\n",
              "      <td>0.790</td>\n",
              "      <td>7.70</td>\n",
              "      <td>7.055</td>\n",
              "    </tr>\n",
              "    <tr>\n",
              "      <th>4</th>\n",
              "      <td>6.000</td>\n",
              "      <td>6.50</td>\n",
              "      <td>0.600</td>\n",
              "      <td>0.900</td>\n",
              "      <td>0.1800</td>\n",
              "      <td>0.3400</td>\n",
              "      <td>1.36</td>\n",
              "      <td>1.820</td>\n",
              "      <td>5.50</td>\n",
              "      <td>5.300</td>\n",
              "    </tr>\n",
              "    <tr>\n",
              "      <th>...</th>\n",
              "      <td>...</td>\n",
              "      <td>...</td>\n",
              "      <td>...</td>\n",
              "      <td>...</td>\n",
              "      <td>...</td>\n",
              "      <td>...</td>\n",
              "      <td>...</td>\n",
              "      <td>...</td>\n",
              "      <td>...</td>\n",
              "      <td>...</td>\n",
              "    </tr>\n",
              "    <tr>\n",
              "      <th>142</th>\n",
              "      <td>7.700</td>\n",
              "      <td>7.50</td>\n",
              "      <td>0.380</td>\n",
              "      <td>1.900</td>\n",
              "      <td>0.6200</td>\n",
              "      <td>0.0640</td>\n",
              "      <td>2.80</td>\n",
              "      <td>3.330</td>\n",
              "      <td>5.00</td>\n",
              "      <td>5.800</td>\n",
              "    </tr>\n",
              "    <tr>\n",
              "      <th>143</th>\n",
              "      <td>6.300</td>\n",
              "      <td>5.65</td>\n",
              "      <td>0.370</td>\n",
              "      <td>0.500</td>\n",
              "      <td>0.6900</td>\n",
              "      <td>0.9500</td>\n",
              "      <td>4.37</td>\n",
              "      <td>3.160</td>\n",
              "      <td>8.00</td>\n",
              "      <td>8.000</td>\n",
              "    </tr>\n",
              "    <tr>\n",
              "      <th>144</th>\n",
              "      <td>8.600</td>\n",
              "      <td>11.00</td>\n",
              "      <td>2.400</td>\n",
              "      <td>3.600</td>\n",
              "      <td>0.1500</td>\n",
              "      <td>0.1400</td>\n",
              "      <td>0.53</td>\n",
              "      <td>3.000</td>\n",
              "      <td>6.80</td>\n",
              "      <td>7.200</td>\n",
              "    </tr>\n",
              "    <tr>\n",
              "      <th>145</th>\n",
              "      <td>9.600</td>\n",
              "      <td>14.10</td>\n",
              "      <td>0.310</td>\n",
              "      <td>0.500</td>\n",
              "      <td>0.2100</td>\n",
              "      <td>0.0800</td>\n",
              "      <td>3.10</td>\n",
              "      <td>3.500</td>\n",
              "      <td>5.20</td>\n",
              "      <td>7.800</td>\n",
              "    </tr>\n",
              "    <tr>\n",
              "      <th>146</th>\n",
              "      <td>6.500</td>\n",
              "      <td>7.70</td>\n",
              "      <td>0.190</td>\n",
              "      <td>0.260</td>\n",
              "      <td>0.1300</td>\n",
              "      <td>0.0720</td>\n",
              "      <td>0.00</td>\n",
              "      <td>0.000</td>\n",
              "      <td>3.40</td>\n",
              "      <td>4.100</td>\n",
              "    </tr>\n",
              "  </tbody>\n",
              "</table>\n",
              "<p>144 rows × 10 columns</p>\n",
              "</div>"
            ],
            "text/plain": [
              "       O2_1   O2_2  NH4_1  NH4_2   NO2_1   NO2_2  NO3_1  NO3_2  BOD5_1  BOD5_2\n",
              "0     9.875   9.20  0.690  1.040  0.0940  0.0990   1.58  1.825    4.80   5.850\n",
              "1    10.300  10.75  0.710  0.725  0.0585  0.0515   1.21  0.905    5.88   6.835\n",
              "2     8.290   7.90  2.210  2.210  0.1000  0.1100   1.34  1.250    3.20   2.700\n",
              "3     8.820   6.80  0.595  0.675  0.0460  0.0535   0.59  0.790    7.70   7.055\n",
              "4     6.000   6.50  0.600  0.900  0.1800  0.3400   1.36  1.820    5.50   5.300\n",
              "..      ...    ...    ...    ...     ...     ...    ...    ...     ...     ...\n",
              "142   7.700   7.50  0.380  1.900  0.6200  0.0640   2.80  3.330    5.00   5.800\n",
              "143   6.300   5.65  0.370  0.500  0.6900  0.9500   4.37  3.160    8.00   8.000\n",
              "144   8.600  11.00  2.400  3.600  0.1500  0.1400   0.53  3.000    6.80   7.200\n",
              "145   9.600  14.10  0.310  0.500  0.2100  0.0800   3.10  3.500    5.20   7.800\n",
              "146   6.500   7.70  0.190  0.260  0.1300  0.0720   0.00  0.000    3.40   4.100\n",
              "\n",
              "[144 rows x 10 columns]"
            ]
          },
          "metadata": {
            "tags": []
          },
          "execution_count": 43
        }
      ]
    },
    {
      "cell_type": "code",
      "metadata": {
        "colab": {
          "base_uri": "https://localhost:8080/"
        },
        "id": "OlFaDc_uV5W_",
        "outputId": "09d4c62c-6cfa-4f35-ca22-0337bf828238"
      },
      "source": [
        "Y"
      ],
      "execution_count": 44,
      "outputs": [
        {
          "output_type": "execute_result",
          "data": {
            "text/plain": [
              "0      12.58\n",
              "1       9.37\n",
              "2       8.35\n",
              "3       9.57\n",
              "4       6.00\n",
              "       ...  \n",
              "142     6.80\n",
              "143     5.30\n",
              "144     8.60\n",
              "145     9.90\n",
              "146     6.50\n",
              "Name: target, Length: 144, dtype: float64"
            ]
          },
          "metadata": {
            "tags": []
          },
          "execution_count": 44
        }
      ]
    },
    {
      "cell_type": "code",
      "metadata": {
        "id": "eDTP77ofV6B_"
      },
      "source": [
        "scaler = StandardScaler()\n",
        "\n",
        "X = pd.DataFrame(scaler.fit_transform(X), columns = X.columns)"
      ],
      "execution_count": 45,
      "outputs": []
    },
    {
      "cell_type": "code",
      "metadata": {
        "colab": {
          "base_uri": "https://localhost:8080/",
          "height": 417
        },
        "id": "KnUiTYURV_7f",
        "outputId": "6cca5329-8cb6-4e90-c578-cc93b9339eb6"
      },
      "source": [
        "X"
      ],
      "execution_count": 46,
      "outputs": [
        {
          "output_type": "execute_result",
          "data": {
            "text/html": [
              "<div>\n",
              "<style scoped>\n",
              "    .dataframe tbody tr th:only-of-type {\n",
              "        vertical-align: middle;\n",
              "    }\n",
              "\n",
              "    .dataframe tbody tr th {\n",
              "        vertical-align: top;\n",
              "    }\n",
              "\n",
              "    .dataframe thead th {\n",
              "        text-align: right;\n",
              "    }\n",
              "</style>\n",
              "<table border=\"1\" class=\"dataframe\">\n",
              "  <thead>\n",
              "    <tr style=\"text-align: right;\">\n",
              "      <th></th>\n",
              "      <th>O2_1</th>\n",
              "      <th>O2_2</th>\n",
              "      <th>NH4_1</th>\n",
              "      <th>NH4_2</th>\n",
              "      <th>NO2_1</th>\n",
              "      <th>NO2_2</th>\n",
              "      <th>NO3_1</th>\n",
              "      <th>NO3_2</th>\n",
              "      <th>BOD5_1</th>\n",
              "      <th>BOD5_2</th>\n",
              "    </tr>\n",
              "  </thead>\n",
              "  <tbody>\n",
              "    <tr>\n",
              "      <th>0</th>\n",
              "      <td>0.179369</td>\n",
              "      <td>0.009505</td>\n",
              "      <td>0.219723</td>\n",
              "      <td>0.635946</td>\n",
              "      <td>-0.129370</td>\n",
              "      <td>-0.138744</td>\n",
              "      <td>-0.546590</td>\n",
              "      <td>-0.575052</td>\n",
              "      <td>-0.085090</td>\n",
              "      <td>0.464734</td>\n",
              "    </tr>\n",
              "    <tr>\n",
              "      <th>1</th>\n",
              "      <td>0.281515</td>\n",
              "      <td>0.423750</td>\n",
              "      <td>0.262989</td>\n",
              "      <td>0.101929</td>\n",
              "      <td>-0.433342</td>\n",
              "      <td>-0.344849</td>\n",
              "      <td>-0.672310</td>\n",
              "      <td>-0.973763</td>\n",
              "      <td>0.443285</td>\n",
              "      <td>0.960824</td>\n",
              "    </tr>\n",
              "    <tr>\n",
              "      <th>2</th>\n",
              "      <td>-0.201578</td>\n",
              "      <td>-0.337926</td>\n",
              "      <td>3.507976</td>\n",
              "      <td>2.619437</td>\n",
              "      <td>-0.077995</td>\n",
              "      <td>-0.091015</td>\n",
              "      <td>-0.628138</td>\n",
              "      <td>-0.824246</td>\n",
              "      <td>-0.867866</td>\n",
              "      <td>-1.121745</td>\n",
              "    </tr>\n",
              "    <tr>\n",
              "      <th>3</th>\n",
              "      <td>-0.074195</td>\n",
              "      <td>-0.631906</td>\n",
              "      <td>0.014207</td>\n",
              "      <td>0.017165</td>\n",
              "      <td>-0.540374</td>\n",
              "      <td>-0.336171</td>\n",
              "      <td>-0.882976</td>\n",
              "      <td>-1.023602</td>\n",
              "      <td>1.333693</td>\n",
              "      <td>1.071625</td>\n",
              "    </tr>\n",
              "    <tr>\n",
              "      <th>4</th>\n",
              "      <td>-0.751969</td>\n",
              "      <td>-0.712082</td>\n",
              "      <td>0.025023</td>\n",
              "      <td>0.398605</td>\n",
              "      <td>0.607012</td>\n",
              "      <td>0.906966</td>\n",
              "      <td>-0.621343</td>\n",
              "      <td>-0.577219</td>\n",
              "      <td>0.257375</td>\n",
              "      <td>0.187730</td>\n",
              "    </tr>\n",
              "    <tr>\n",
              "      <th>...</th>\n",
              "      <td>...</td>\n",
              "      <td>...</td>\n",
              "      <td>...</td>\n",
              "      <td>...</td>\n",
              "      <td>...</td>\n",
              "      <td>...</td>\n",
              "      <td>...</td>\n",
              "      <td>...</td>\n",
              "      <td>...</td>\n",
              "      <td>...</td>\n",
              "    </tr>\n",
              "    <tr>\n",
              "      <th>139</th>\n",
              "      <td>-0.343382</td>\n",
              "      <td>-0.444827</td>\n",
              "      <td>-0.450908</td>\n",
              "      <td>2.093896</td>\n",
              "      <td>4.374546</td>\n",
              "      <td>-0.290611</td>\n",
              "      <td>-0.132055</td>\n",
              "      <td>0.077186</td>\n",
              "      <td>0.012757</td>\n",
              "      <td>0.439552</td>\n",
              "    </tr>\n",
              "    <tr>\n",
              "      <th>140</th>\n",
              "      <td>-0.679865</td>\n",
              "      <td>-0.939249</td>\n",
              "      <td>-0.472541</td>\n",
              "      <td>-0.279511</td>\n",
              "      <td>4.973927</td>\n",
              "      <td>3.553785</td>\n",
              "      <td>0.401404</td>\n",
              "      <td>0.003511</td>\n",
              "      <td>1.480463</td>\n",
              "      <td>1.547569</td>\n",
              "    </tr>\n",
              "    <tr>\n",
              "      <th>141</th>\n",
              "      <td>-0.127071</td>\n",
              "      <td>0.490564</td>\n",
              "      <td>3.919008</td>\n",
              "      <td>4.975891</td>\n",
              "      <td>0.350134</td>\n",
              "      <td>0.039157</td>\n",
              "      <td>-0.903362</td>\n",
              "      <td>-0.065830</td>\n",
              "      <td>0.893381</td>\n",
              "      <td>1.144654</td>\n",
              "    </tr>\n",
              "    <tr>\n",
              "      <th>142</th>\n",
              "      <td>0.113274</td>\n",
              "      <td>1.319053</td>\n",
              "      <td>-0.602341</td>\n",
              "      <td>-0.279511</td>\n",
              "      <td>0.863889</td>\n",
              "      <td>-0.221186</td>\n",
              "      <td>-0.030120</td>\n",
              "      <td>0.150861</td>\n",
              "      <td>0.110605</td>\n",
              "      <td>1.446840</td>\n",
              "    </tr>\n",
              "    <tr>\n",
              "      <th>143</th>\n",
              "      <td>-0.631796</td>\n",
              "      <td>-0.391377</td>\n",
              "      <td>-0.861940</td>\n",
              "      <td>-0.686381</td>\n",
              "      <td>0.178883</td>\n",
              "      <td>-0.255898</td>\n",
              "      <td>-1.083447</td>\n",
              "      <td>-1.365972</td>\n",
              "      <td>-0.770019</td>\n",
              "      <td>-0.416643</td>\n",
              "    </tr>\n",
              "  </tbody>\n",
              "</table>\n",
              "<p>144 rows × 10 columns</p>\n",
              "</div>"
            ],
            "text/plain": [
              "         O2_1      O2_2     NH4_1  ...     NO3_2    BOD5_1    BOD5_2\n",
              "0    0.179369  0.009505  0.219723  ... -0.575052 -0.085090  0.464734\n",
              "1    0.281515  0.423750  0.262989  ... -0.973763  0.443285  0.960824\n",
              "2   -0.201578 -0.337926  3.507976  ... -0.824246 -0.867866 -1.121745\n",
              "3   -0.074195 -0.631906  0.014207  ... -1.023602  1.333693  1.071625\n",
              "4   -0.751969 -0.712082  0.025023  ... -0.577219  0.257375  0.187730\n",
              "..        ...       ...       ...  ...       ...       ...       ...\n",
              "139 -0.343382 -0.444827 -0.450908  ...  0.077186  0.012757  0.439552\n",
              "140 -0.679865 -0.939249 -0.472541  ...  0.003511  1.480463  1.547569\n",
              "141 -0.127071  0.490564  3.919008  ... -0.065830  0.893381  1.144654\n",
              "142  0.113274  1.319053 -0.602341  ...  0.150861  0.110605  1.446840\n",
              "143 -0.631796 -0.391377 -0.861940  ... -1.365972 -0.770019 -0.416643\n",
              "\n",
              "[144 rows x 10 columns]"
            ]
          },
          "metadata": {
            "tags": []
          },
          "execution_count": 46
        }
      ]
    },
    {
      "cell_type": "markdown",
      "metadata": {
        "id": "XJ58js4BWY4h"
      },
      "source": [
        "Train-test Split"
      ]
    },
    {
      "cell_type": "code",
      "metadata": {
        "id": "RPucULwBWAb3"
      },
      "source": [
        "X_train, X_test, Y_train, Y_test = train_test_split(X, Y, test_size = 0.3)"
      ],
      "execution_count": 54,
      "outputs": []
    },
    {
      "cell_type": "code",
      "metadata": {
        "colab": {
          "base_uri": "https://localhost:8080/"
        },
        "id": "CphNlZDFWjfP",
        "outputId": "f656faa6-26af-43f3-9509-9a505c5625dc"
      },
      "source": [
        "print(X.shape, X_train.shape, X_test.shape)"
      ],
      "execution_count": 55,
      "outputs": [
        {
          "output_type": "stream",
          "text": [
            "(144, 10) (100, 10) (44, 10)\n"
          ],
          "name": "stdout"
        }
      ]
    },
    {
      "cell_type": "markdown",
      "metadata": {
        "id": "0Dx38AvdWuTg"
      },
      "source": [
        "# Model"
      ]
    },
    {
      "cell_type": "code",
      "metadata": {
        "colab": {
          "base_uri": "https://localhost:8080/"
        },
        "id": "OLtsi4TuXKyI",
        "outputId": "f82e47b2-e989-4471-d607-2133c01f03a3"
      },
      "source": [
        "model = LinearRegression()\n",
        "\n",
        "model.fit(X_train, Y_train)\n",
        "\n",
        "score = model.score(X_test, Y_test)\n",
        "print('R2 Error: {:.2f}%'.format(score * 100))"
      ],
      "execution_count": 58,
      "outputs": [
        {
          "output_type": "stream",
          "text": [
            "R2 Error: 45.91%\n"
          ],
          "name": "stdout"
        }
      ]
    },
    {
      "cell_type": "markdown",
      "metadata": {
        "id": "ZbdY4XBvZXbn"
      },
      "source": [
        "Changing the data by classifying target into either 0 or 1"
      ]
    },
    {
      "cell_type": "code",
      "metadata": {
        "colab": {
          "base_uri": "https://localhost:8080/"
        },
        "id": "oUgDGvy0ZW94",
        "outputId": "d023395f-c0c7-4f7f-a95e-6520ff417f23"
      },
      "source": [
        "Y.mean()"
      ],
      "execution_count": 60,
      "outputs": [
        {
          "output_type": "execute_result",
          "data": {
            "text/plain": [
              "9.145763888888887"
            ]
          },
          "metadata": {
            "tags": []
          },
          "execution_count": 60
        }
      ]
    },
    {
      "cell_type": "code",
      "metadata": {
        "id": "Bq6BbVjHY1Rw"
      },
      "source": [
        "y_new = pd.qcut(Y, q = 2, labels = [0, 1])"
      ],
      "execution_count": 61,
      "outputs": []
    },
    {
      "cell_type": "code",
      "metadata": {
        "colab": {
          "base_uri": "https://localhost:8080/"
        },
        "id": "QNvL3n0vaQRI",
        "outputId": "d5bb06c8-6c03-4a35-a84d-23ec147b1106"
      },
      "source": [
        "y_new"
      ],
      "execution_count": 62,
      "outputs": [
        {
          "output_type": "execute_result",
          "data": {
            "text/plain": [
              "0      1\n",
              "1      1\n",
              "2      0\n",
              "3      1\n",
              "4      0\n",
              "      ..\n",
              "142    0\n",
              "143    0\n",
              "144    0\n",
              "145    1\n",
              "146    0\n",
              "Name: target, Length: 144, dtype: category\n",
              "Categories (2, int64): [0 < 1]"
            ]
          },
          "metadata": {
            "tags": []
          },
          "execution_count": 62
        }
      ]
    },
    {
      "cell_type": "code",
      "metadata": {
        "id": "d2PRfwIzaRVH"
      },
      "source": [
        "X_train, X_test, Y_train, Y_test = train_test_split(X, y_new, test_size = 0.3)"
      ],
      "execution_count": 63,
      "outputs": []
    },
    {
      "cell_type": "code",
      "metadata": {
        "colab": {
          "base_uri": "https://localhost:8080/"
        },
        "id": "3iMtUvmjaX7n",
        "outputId": "14d0550d-a78f-4eae-b5d8-f075a2d2202f"
      },
      "source": [
        "model = LogisticRegression()\n",
        "model.fit(X_train, Y_train)\n",
        "score1 = model.score(X_test, Y_test)\n",
        "print('R2 Error:{:.2f}%'.format(score1 * 100))"
      ],
      "execution_count": 65,
      "outputs": [
        {
          "output_type": "stream",
          "text": [
            "R2 Error:75.00%\n"
          ],
          "name": "stdout"
        }
      ]
    },
    {
      "cell_type": "code",
      "metadata": {
        "id": "dMuH2nhoa1dX"
      },
      "source": [
        ""
      ],
      "execution_count": null,
      "outputs": []
    }
  ]
}